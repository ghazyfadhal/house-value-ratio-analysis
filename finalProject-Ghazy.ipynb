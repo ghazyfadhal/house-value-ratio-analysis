{
 "cells": [
  {
   "cell_type": "markdown",
   "id": "3d929688",
   "metadata": {},
   "source": [
    "<h1>Final Project Sanbercode</h1>\n",
    "<h4>Ghazy Fadhal Ramadhan</h4>"
   ]
  },
  {
   "cell_type": "code",
   "execution_count": 57,
   "id": "25b8b96d",
   "metadata": {},
   "outputs": [
    {
     "data": {
      "application/vnd.microsoft.datawrangler.viewer.v0+json": {
       "columns": [
        {
         "name": "index",
         "rawType": "int64",
         "type": "integer"
        },
        {
         "name": "date",
         "rawType": "object",
         "type": "string"
        },
        {
         "name": "price",
         "rawType": "float64",
         "type": "float"
        },
        {
         "name": "bedrooms",
         "rawType": "float64",
         "type": "float"
        },
        {
         "name": "bathrooms",
         "rawType": "float64",
         "type": "float"
        },
        {
         "name": "sqft_living",
         "rawType": "int64",
         "type": "integer"
        },
        {
         "name": "sqft_lot",
         "rawType": "int64",
         "type": "integer"
        },
        {
         "name": "floors",
         "rawType": "float64",
         "type": "float"
        },
        {
         "name": "waterfront",
         "rawType": "int64",
         "type": "integer"
        },
        {
         "name": "view",
         "rawType": "int64",
         "type": "integer"
        },
        {
         "name": "condition",
         "rawType": "int64",
         "type": "integer"
        },
        {
         "name": "sqft_above",
         "rawType": "int64",
         "type": "integer"
        },
        {
         "name": "sqft_basement",
         "rawType": "int64",
         "type": "integer"
        },
        {
         "name": "yr_built",
         "rawType": "int64",
         "type": "integer"
        },
        {
         "name": "yr_renovated",
         "rawType": "int64",
         "type": "integer"
        },
        {
         "name": "street",
         "rawType": "object",
         "type": "string"
        },
        {
         "name": "city",
         "rawType": "object",
         "type": "string"
        },
        {
         "name": "statezip",
         "rawType": "object",
         "type": "string"
        },
        {
         "name": "country",
         "rawType": "object",
         "type": "string"
        }
       ],
       "conversionMethod": "pd.DataFrame",
       "ref": "622f7937-f993-4a2d-a5d7-98111dfc9636",
       "rows": [
        [
         "0",
         "2014-05-02 00:00:00",
         "313000.0",
         "3.0",
         "1.5",
         "1340",
         "7912",
         "1.5",
         "0",
         "0",
         "3",
         "1340",
         "0",
         "1955",
         "2005",
         "18810 Densmore Ave N",
         "Shoreline",
         "WA 98133",
         "USA"
        ],
        [
         "1",
         "2014-05-02 00:00:00",
         "2384000.0",
         "5.0",
         "2.5",
         "3650",
         "9050",
         "2.0",
         "0",
         "4",
         "5",
         "3370",
         "280",
         "1921",
         "0",
         "709 W Blaine St",
         "Seattle",
         "WA 98119",
         "USA"
        ],
        [
         "2",
         "2014-05-02 00:00:00",
         "342000.0",
         "3.0",
         "2.0",
         "1930",
         "11947",
         "1.0",
         "0",
         "0",
         "4",
         "1930",
         "0",
         "1966",
         "0",
         "26206-26214 143rd Ave SE",
         "Kent",
         "WA 98042",
         "USA"
        ],
        [
         "3",
         "2014-05-02 00:00:00",
         "420000.0",
         "3.0",
         "2.25",
         "2000",
         "8030",
         "1.0",
         "0",
         "0",
         "4",
         "1000",
         "1000",
         "1963",
         "0",
         "857 170th Pl NE",
         "Bellevue",
         "WA 98008",
         "USA"
        ],
        [
         "4",
         "2014-05-02 00:00:00",
         "550000.0",
         "4.0",
         "2.5",
         "1940",
         "10500",
         "1.0",
         "0",
         "0",
         "4",
         "1140",
         "800",
         "1976",
         "1992",
         "9105 170th Ave NE",
         "Redmond",
         "WA 98052",
         "USA"
        ]
       ],
       "shape": {
        "columns": 18,
        "rows": 5
       }
      },
      "text/html": [
       "<div>\n",
       "<style scoped>\n",
       "    .dataframe tbody tr th:only-of-type {\n",
       "        vertical-align: middle;\n",
       "    }\n",
       "\n",
       "    .dataframe tbody tr th {\n",
       "        vertical-align: top;\n",
       "    }\n",
       "\n",
       "    .dataframe thead th {\n",
       "        text-align: right;\n",
       "    }\n",
       "</style>\n",
       "<table border=\"1\" class=\"dataframe\">\n",
       "  <thead>\n",
       "    <tr style=\"text-align: right;\">\n",
       "      <th></th>\n",
       "      <th>date</th>\n",
       "      <th>price</th>\n",
       "      <th>bedrooms</th>\n",
       "      <th>bathrooms</th>\n",
       "      <th>sqft_living</th>\n",
       "      <th>sqft_lot</th>\n",
       "      <th>floors</th>\n",
       "      <th>waterfront</th>\n",
       "      <th>view</th>\n",
       "      <th>condition</th>\n",
       "      <th>sqft_above</th>\n",
       "      <th>sqft_basement</th>\n",
       "      <th>yr_built</th>\n",
       "      <th>yr_renovated</th>\n",
       "      <th>street</th>\n",
       "      <th>city</th>\n",
       "      <th>statezip</th>\n",
       "      <th>country</th>\n",
       "    </tr>\n",
       "  </thead>\n",
       "  <tbody>\n",
       "    <tr>\n",
       "      <th>0</th>\n",
       "      <td>2014-05-02 00:00:00</td>\n",
       "      <td>313000.0</td>\n",
       "      <td>3.0</td>\n",
       "      <td>1.50</td>\n",
       "      <td>1340</td>\n",
       "      <td>7912</td>\n",
       "      <td>1.5</td>\n",
       "      <td>0</td>\n",
       "      <td>0</td>\n",
       "      <td>3</td>\n",
       "      <td>1340</td>\n",
       "      <td>0</td>\n",
       "      <td>1955</td>\n",
       "      <td>2005</td>\n",
       "      <td>18810 Densmore Ave N</td>\n",
       "      <td>Shoreline</td>\n",
       "      <td>WA 98133</td>\n",
       "      <td>USA</td>\n",
       "    </tr>\n",
       "    <tr>\n",
       "      <th>1</th>\n",
       "      <td>2014-05-02 00:00:00</td>\n",
       "      <td>2384000.0</td>\n",
       "      <td>5.0</td>\n",
       "      <td>2.50</td>\n",
       "      <td>3650</td>\n",
       "      <td>9050</td>\n",
       "      <td>2.0</td>\n",
       "      <td>0</td>\n",
       "      <td>4</td>\n",
       "      <td>5</td>\n",
       "      <td>3370</td>\n",
       "      <td>280</td>\n",
       "      <td>1921</td>\n",
       "      <td>0</td>\n",
       "      <td>709 W Blaine St</td>\n",
       "      <td>Seattle</td>\n",
       "      <td>WA 98119</td>\n",
       "      <td>USA</td>\n",
       "    </tr>\n",
       "    <tr>\n",
       "      <th>2</th>\n",
       "      <td>2014-05-02 00:00:00</td>\n",
       "      <td>342000.0</td>\n",
       "      <td>3.0</td>\n",
       "      <td>2.00</td>\n",
       "      <td>1930</td>\n",
       "      <td>11947</td>\n",
       "      <td>1.0</td>\n",
       "      <td>0</td>\n",
       "      <td>0</td>\n",
       "      <td>4</td>\n",
       "      <td>1930</td>\n",
       "      <td>0</td>\n",
       "      <td>1966</td>\n",
       "      <td>0</td>\n",
       "      <td>26206-26214 143rd Ave SE</td>\n",
       "      <td>Kent</td>\n",
       "      <td>WA 98042</td>\n",
       "      <td>USA</td>\n",
       "    </tr>\n",
       "    <tr>\n",
       "      <th>3</th>\n",
       "      <td>2014-05-02 00:00:00</td>\n",
       "      <td>420000.0</td>\n",
       "      <td>3.0</td>\n",
       "      <td>2.25</td>\n",
       "      <td>2000</td>\n",
       "      <td>8030</td>\n",
       "      <td>1.0</td>\n",
       "      <td>0</td>\n",
       "      <td>0</td>\n",
       "      <td>4</td>\n",
       "      <td>1000</td>\n",
       "      <td>1000</td>\n",
       "      <td>1963</td>\n",
       "      <td>0</td>\n",
       "      <td>857 170th Pl NE</td>\n",
       "      <td>Bellevue</td>\n",
       "      <td>WA 98008</td>\n",
       "      <td>USA</td>\n",
       "    </tr>\n",
       "    <tr>\n",
       "      <th>4</th>\n",
       "      <td>2014-05-02 00:00:00</td>\n",
       "      <td>550000.0</td>\n",
       "      <td>4.0</td>\n",
       "      <td>2.50</td>\n",
       "      <td>1940</td>\n",
       "      <td>10500</td>\n",
       "      <td>1.0</td>\n",
       "      <td>0</td>\n",
       "      <td>0</td>\n",
       "      <td>4</td>\n",
       "      <td>1140</td>\n",
       "      <td>800</td>\n",
       "      <td>1976</td>\n",
       "      <td>1992</td>\n",
       "      <td>9105 170th Ave NE</td>\n",
       "      <td>Redmond</td>\n",
       "      <td>WA 98052</td>\n",
       "      <td>USA</td>\n",
       "    </tr>\n",
       "  </tbody>\n",
       "</table>\n",
       "</div>"
      ],
      "text/plain": [
       "                  date      price  bedrooms  bathrooms  sqft_living  sqft_lot  \\\n",
       "0  2014-05-02 00:00:00   313000.0       3.0       1.50         1340      7912   \n",
       "1  2014-05-02 00:00:00  2384000.0       5.0       2.50         3650      9050   \n",
       "2  2014-05-02 00:00:00   342000.0       3.0       2.00         1930     11947   \n",
       "3  2014-05-02 00:00:00   420000.0       3.0       2.25         2000      8030   \n",
       "4  2014-05-02 00:00:00   550000.0       4.0       2.50         1940     10500   \n",
       "\n",
       "   floors  waterfront  view  condition  sqft_above  sqft_basement  yr_built  \\\n",
       "0     1.5           0     0          3        1340              0      1955   \n",
       "1     2.0           0     4          5        3370            280      1921   \n",
       "2     1.0           0     0          4        1930              0      1966   \n",
       "3     1.0           0     0          4        1000           1000      1963   \n",
       "4     1.0           0     0          4        1140            800      1976   \n",
       "\n",
       "   yr_renovated                    street       city  statezip country  \n",
       "0          2005      18810 Densmore Ave N  Shoreline  WA 98133     USA  \n",
       "1             0           709 W Blaine St    Seattle  WA 98119     USA  \n",
       "2             0  26206-26214 143rd Ave SE       Kent  WA 98042     USA  \n",
       "3             0           857 170th Pl NE   Bellevue  WA 98008     USA  \n",
       "4          1992         9105 170th Ave NE    Redmond  WA 98052     USA  "
      ]
     },
     "execution_count": 57,
     "metadata": {},
     "output_type": "execute_result"
    }
   ],
   "source": [
    "import pandas as pd\n",
    "import numpy as np\n",
    "import seaborn as sns\n",
    "from matplotlib import pyplot as plt\n",
    "import scipy.stats as stats\n",
    "\n",
    "df = pd.read_csv('data_porto_2.csv')\n",
    "df.head()"
   ]
  },
  {
   "cell_type": "code",
   "execution_count": 58,
   "id": "c9c7d9ea",
   "metadata": {},
   "outputs": [
    {
     "name": "stdout",
     "output_type": "stream",
     "text": [
      "<class 'pandas.core.frame.DataFrame'>\n",
      "RangeIndex: 4600 entries, 0 to 4599\n",
      "Data columns (total 18 columns):\n",
      " #   Column         Non-Null Count  Dtype  \n",
      "---  ------         --------------  -----  \n",
      " 0   date           4600 non-null   object \n",
      " 1   price          4600 non-null   float64\n",
      " 2   bedrooms       4600 non-null   float64\n",
      " 3   bathrooms      4600 non-null   float64\n",
      " 4   sqft_living    4600 non-null   int64  \n",
      " 5   sqft_lot       4600 non-null   int64  \n",
      " 6   floors         4600 non-null   float64\n",
      " 7   waterfront     4600 non-null   int64  \n",
      " 8   view           4600 non-null   int64  \n",
      " 9   condition      4600 non-null   int64  \n",
      " 10  sqft_above     4600 non-null   int64  \n",
      " 11  sqft_basement  4600 non-null   int64  \n",
      " 12  yr_built       4600 non-null   int64  \n",
      " 13  yr_renovated   4600 non-null   int64  \n",
      " 14  street         4600 non-null   object \n",
      " 15  city           4600 non-null   object \n",
      " 16  statezip       4600 non-null   object \n",
      " 17  country        4600 non-null   object \n",
      "dtypes: float64(4), int64(9), object(5)\n",
      "memory usage: 647.0+ KB\n"
     ]
    }
   ],
   "source": [
    "# Melihat tipe data dan informasi dari dataset\n",
    "df.info()"
   ]
  },
  {
   "cell_type": "markdown",
   "id": "045b0ca7",
   "metadata": {},
   "source": [
    "<br>\n",
    "<h3>Pengecekan data null (kosong)</h3>"
   ]
  },
  {
   "cell_type": "code",
   "execution_count": 59,
   "id": "e23b36fc",
   "metadata": {},
   "outputs": [
    {
     "data": {
      "text/plain": [
       "date             0\n",
       "price            0\n",
       "bedrooms         0\n",
       "bathrooms        0\n",
       "sqft_living      0\n",
       "sqft_lot         0\n",
       "floors           0\n",
       "waterfront       0\n",
       "view             0\n",
       "condition        0\n",
       "sqft_above       0\n",
       "sqft_basement    0\n",
       "yr_built         0\n",
       "yr_renovated     0\n",
       "street           0\n",
       "city             0\n",
       "statezip         0\n",
       "country          0\n",
       "dtype: int64"
      ]
     },
     "execution_count": 59,
     "metadata": {},
     "output_type": "execute_result"
    }
   ],
   "source": [
    "df.isnull().sum()"
   ]
  },
  {
   "cell_type": "markdown",
   "id": "fee5c5e2",
   "metadata": {},
   "source": [
    "<br>\n",
    "<h3>Pengecekan Outlier</h3>"
   ]
  },
  {
   "cell_type": "code",
   "execution_count": 60,
   "id": "b973e6f2",
   "metadata": {},
   "outputs": [],
   "source": [
    "#Menggunakan IQR untuk mendeteksi outlier\n",
    "\n",
    "def detect_and_remove_outliers_iqr(df):\n",
    "    df_clean = df.copy()\n",
    "    outlier_info = {}\n",
    "    numeric_cols = df.select_dtypes(include=['int64', 'float64']).columns\n",
    "\n",
    "    for col in numeric_cols:\n",
    "        Q1 = df_clean[col].quantile(0.25)\n",
    "        Q3 = df_clean[col].quantile(0.75)\n",
    "        IQR = Q3 - Q1\n",
    "        lower_bound = Q1 - 1.5 * IQR\n",
    "        upper_bound = Q3 + 1.5 * IQR\n",
    "\n",
    "        # Deteksi jumlah outlier sebelum pembersihan\n",
    "        outliers = df_clean[(df_clean[col] < lower_bound) | (df_clean[col] > upper_bound)]\n",
    "        if not outliers.empty:\n",
    "            outlier_info[col] = len(outliers)\n",
    "        \n",
    "        # Hapus outlier\n",
    "        df_clean = df_clean[(df_clean[col] >= lower_bound) & (df_clean[col] <= upper_bound)]\n",
    "\n",
    "    return df_clean, outlier_info"
   ]
  },
  {
   "cell_type": "code",
   "execution_count": 61,
   "id": "0429fc20",
   "metadata": {},
   "outputs": [
    {
     "name": "stdout",
     "output_type": "stream",
     "text": [
      "Jumlah Outlier per Kolom (Sebelum Pembersihan):\n",
      "\n",
      "price: 240 outlier\n",
      "bedrooms: 100 outlier\n",
      "bathrooms: 66 outlier\n",
      "sqft_living: 57 outlier\n",
      "sqft_lot: 460 outlier\n",
      "waterfront: 6 outlier\n",
      "view: 234 outlier\n",
      "condition: 3 outlier\n",
      "sqft_above: 68 outlier\n",
      "sqft_basement: 50 outlier\n",
      "\n",
      "Jumlah Baris:\n",
      "Sebelum: 4600\n",
      "Sesudah: 3316\n"
     ]
    }
   ],
   "source": [
    "df_bersih, info_outlier = detect_and_remove_outliers_iqr(df)\n",
    "\n",
    "# Print ringkasan outlier\n",
    "print(\"Jumlah Outlier per Kolom (Sebelum Pembersihan):\\n\")\n",
    "for col, count in info_outlier.items():\n",
    "    print(f\"{col}: {count} outlier\")\n",
    "\n",
    "# Cek ukuran data sebelum dan sesudah\n",
    "print(\"\\nJumlah Baris:\")\n",
    "print(f\"Sebelum: {df.shape[0]}\")\n",
    "print(f\"Sesudah: {df_bersih.shape[0]}\")"
   ]
  },
  {
   "cell_type": "markdown",
   "id": "d76a70f1",
   "metadata": {},
   "source": [
    "<br>\n",
    "<h4>Contoh Column Price</h4>"
   ]
  },
  {
   "cell_type": "code",
   "execution_count": 62,
   "id": "faef6d45",
   "metadata": {},
   "outputs": [
    {
     "data": {
      "text/plain": [
       "Text(0.5, 1.0, 'Boxplot Harga Rumah (before)')"
      ]
     },
     "execution_count": 62,
     "metadata": {},
     "output_type": "execute_result"
    },
    {
     "data": {
      "image/png": "[encoded data removed]",
      "text/plain": [
       "<Figure size 640x480 with 1 Axes>"
      ]
     },
     "metadata": {},
     "output_type": "display_data"
    }
   ],
   "source": [
    "sns.boxplot(x='price', data=df)\n",
    "plt.title(\"Boxplot Harga Rumah (before)\")\n"
   ]
  },
  {
   "cell_type": "code",
   "execution_count": 63,
   "id": "c052568c",
   "metadata": {},
   "outputs": [
    {
     "name": "stdout",
     "output_type": "stream",
     "text": [
      "Jumlah outlier: 240\n"
     ]
    }
   ],
   "source": [
    "Q1 = df['price'].quantile(0.25)\n",
    "Q3 = df['price'].quantile(0.75)\n",
    "IQR = Q3 - Q1\n",
    "lower_bound = Q1 - 1.5 * IQR\n",
    "upper_bound = Q3 + 1.5 * IQR\n",
    "outliers = df[(df['price'] < lower_bound) | (df['price'] > upper_bound)]\n",
    "print(f\"Jumlah outlier: {len(outliers)}\")"
   ]
  },
  {
   "cell_type": "code",
   "execution_count": 64,
   "id": "245d6649",
   "metadata": {},
   "outputs": [],
   "source": [
    "# Buang outlier dari data\n",
    "df_no_outliers = df[(df['price'] >= lower_bound) & (df['price'] <= upper_bound)]\n"
   ]
  },
  {
   "cell_type": "code",
   "execution_count": 65,
   "id": "5ecb85b0",
   "metadata": {},
   "outputs": [
    {
     "data": {
      "image/png": "[encoded data removed]",
      "text/plain": [
       "<Figure size 640x480 with 1 Axes>"
      ]
     },
     "metadata": {},
     "output_type": "display_data"
    }
   ],
   "source": [
    "sns.boxplot(x='price', data=df_no_outliers)\n",
    "plt.title(\"Boxplot Harga Rumah (Tanpa Outlier)\")\n",
    "plt.show()"
   ]
  },
  {
   "cell_type": "code",
   "execution_count": 66,
   "id": "938bb8ac",
   "metadata": {},
   "outputs": [
    {
     "data": {
      "text/plain": [
       "Text(0.5, 1.0, 'Boxplot kamar tidur (before)')"
      ]
     },
     "execution_count": 66,
     "metadata": {},
     "output_type": "execute_result"
    },
    {
     "data": {
      "image/png": "[encoded data removed]",
      "text/plain": [
       "<Figure size 640x480 with 1 Axes>"
      ]
     },
     "metadata": {},
     "output_type": "display_data"
    }
   ],
   "source": [
    "sns.boxplot(x='bedrooms', data=df)\n",
    "plt.title(\"Boxplot kamar tidur (before)\")"
   ]
  },
  {
   "cell_type": "code",
   "execution_count": 67,
   "id": "66d07308",
   "metadata": {},
   "outputs": [
    {
     "name": "stdout",
     "output_type": "stream",
     "text": [
      "Jumlah outlier: 118\n"
     ]
    }
   ],
   "source": [
    "Q1 = df['bedrooms'].quantile(0.25)\n",
    "Q3 = df['bedrooms'].quantile(0.75)\n",
    "IQR = Q3 - Q1\n",
    "lower_bound = Q1 - 1.5 * IQR\n",
    "upper_bound = Q3 + 1.5 * IQR\n",
    "outliers = df[(df['bedrooms'] < lower_bound) | (df['bedrooms'] > upper_bound)]\n",
    "print(f\"Jumlah outlier: {len(outliers)}\")"
   ]
  },
  {
   "cell_type": "code",
   "execution_count": 68,
   "id": "beddbb5c",
   "metadata": {},
   "outputs": [],
   "source": [
    "df_no_outliers = df[(df['bedrooms'] >= lower_bound) & (df['bedrooms'] <= upper_bound)]"
   ]
  },
  {
   "cell_type": "code",
   "execution_count": 69,
   "id": "29227e4a",
   "metadata": {},
   "outputs": [
    {
     "data": {
      "text/plain": [
       "Text(0.5, 1.0, 'Boxplot Harga kamar tidur (Tanpa Outlier)')"
      ]
     },
     "execution_count": 69,
     "metadata": {},
     "output_type": "execute_result"
    },
    {
     "data": {
      "image/png": "[encoded data removed]",
      "text/plain": [
       "<Figure size 640x480 with 1 Axes>"
      ]
     },
     "metadata": {},
     "output_type": "display_data"
    }
   ],
   "source": [
    "sns.boxplot(x='bedrooms', data=df_no_outliers)\n",
    "plt.title(\"Boxplot Harga kamar tidur (Tanpa Outlier)\")"
   ]
  },
  {
   "cell_type": "code",
   "execution_count": 70,
   "id": "85ec82cc",
   "metadata": {},
   "outputs": [
    {
     "data": {
      "text/plain": [
       "Text(0.5, 1.0, 'Boxplot kamar mandi (before)')"
      ]
     },
     "execution_count": 70,
     "metadata": {},
     "output_type": "execute_result"
    },
    {
     "data": {
      "image/png": "[encoded data removed]",
      "text/plain": [
       "<Figure size 640x480 with 1 Axes>"
      ]
     },
     "metadata": {},
     "output_type": "display_data"
    }
   ],
   "source": [
    "sns.boxplot(x='bathrooms', data=df)\n",
    "plt.title(\"Boxplot kamar mandi (before)\")"
   ]
  },
  {
   "cell_type": "code",
   "execution_count": 71,
   "id": "e06f3df1",
   "metadata": {},
   "outputs": [
    {
     "name": "stdout",
     "output_type": "stream",
     "text": [
      "Jumlah outlier: 141\n"
     ]
    }
   ],
   "source": [
    "Q1 = df['bathrooms'].quantile(0.25)\n",
    "Q3 = df['bathrooms'].quantile(0.75)\n",
    "IQR = Q3 - Q1\n",
    "lower_bound = Q1 - 1.5 * IQR\n",
    "upper_bound = Q3 + 1.5 * IQR\n",
    "outliers = df[(df['bathrooms'] < lower_bound) | (df['bathrooms'] > upper_bound)]\n",
    "print(f\"Jumlah outlier: {len(outliers)}\")"
   ]
  },
  {
   "cell_type": "code",
   "execution_count": 72,
   "id": "913b96f0",
   "metadata": {},
   "outputs": [],
   "source": [
    "df_no_outliers = df[(df['bathrooms'] >= lower_bound) & (df['bathrooms'] <= upper_bound)]"
   ]
  },
  {
   "cell_type": "code",
   "execution_count": 73,
   "id": "a5e18b69",
   "metadata": {},
   "outputs": [
    {
     "data": {
      "text/plain": [
       "Text(0.5, 1.0, 'Boxplot Harga kamar mandi (Tanpa Outlier)')"
      ]
     },
     "execution_count": 73,
     "metadata": {},
     "output_type": "execute_result"
    },
    {
     "data": {
      "image/png": "[encoded data removed]",
      "text/plain": [
       "<Figure size 640x480 with 1 Axes>"
      ]
     },
     "metadata": {},
     "output_type": "display_data"
    }
   ],
   "source": [
    "sns.boxplot(x='bathrooms', data=df_no_outliers)\n",
    "plt.title(\"Boxplot Harga kamar mandi (Tanpa Outlier)\")"
   ]
  },
  {
   "cell_type": "markdown",
   "id": "419f4b70",
   "metadata": {},
   "source": [
    "<br>\n",
    "<h3>Column tahun tidak ada outliernya </h3>"
   ]
  },
  {
   "cell_type": "code",
   "execution_count": 74,
   "id": "a95048fb",
   "metadata": {},
   "outputs": [
    {
     "data": {
      "image/png": "[encoded data removed]",
      "text/plain": [
       "<Figure size 1200x500 with 2 Axes>"
      ]
     },
     "metadata": {},
     "output_type": "display_data"
    }
   ],
   "source": [
    "fig, axs = plt.subplots(1, 2, figsize=(12, 5))\n",
    "\n",
    "sns.boxplot(x=df['yr_built'], ax=axs[0])\n",
    "axs[0].set_title('Distribusi Tahun Dibangun')\n",
    "\n",
    "sns.boxplot(x=df['yr_renovated'], ax=axs[1])\n",
    "axs[1].set_title('Distribusi Tahun Renovasi')\n",
    "\n",
    "plt.tight_layout()\n",
    "plt.show()\n"
   ]
  },
  {
   "cell_type": "markdown",
   "id": "635e687e",
   "metadata": {},
   "source": [
    "<h3>Pengecekan Duplicate data</h3>"
   ]
  },
  {
   "cell_type": "code",
   "execution_count": 75,
   "id": "36731bc0",
   "metadata": {},
   "outputs": [
    {
     "data": {
      "text/plain": [
       "np.int64(0)"
      ]
     },
     "execution_count": 75,
     "metadata": {},
     "output_type": "execute_result"
    }
   ],
   "source": [
    "len(df_no_outliers)\n",
    "df_no_outliers.duplicated().sum()"
   ]
  },
  {
   "cell_type": "markdown",
   "id": "4d37c842",
   "metadata": {},
   "source": [
    "Tidak ditemukan data duplikat"
   ]
  },
  {
   "cell_type": "markdown",
   "id": "5b430184",
   "metadata": {},
   "source": [
    "<br>\n",
    "<h2>Exploratory Data Analysis (EDA)</h2>"
   ]
  },
  {
   "cell_type": "code",
   "execution_count": 76,
   "id": "f5e3feea",
   "metadata": {},
   "outputs": [
    {
     "data": {
      "image/png": "[encoded data removed]",
      "text/plain": [
       "<Figure size 640x480 with 1 Axes>"
      ]
     },
     "metadata": {},
     "output_type": "display_data"
    }
   ],
   "source": [
    "sns.histplot(df_no_outliers['price'], kde=True)\n",
    "plt.title('Distribusi Harga Rumah')\n",
    "plt.xlabel('Harga')\n",
    "plt.ylabel('Jumlah Rumah')\n",
    "plt.show()\n"
   ]
  },
  {
   "cell_type": "code",
   "execution_count": 77,
   "id": "5b6d409c",
   "metadata": {},
   "outputs": [
    {
     "data": {
      "image/png": "[encoded data removed]",
      "text/plain": [
       "<Figure size 640x480 with 1 Axes>"
      ]
     },
     "metadata": {},
     "output_type": "display_data"
    }
   ],
   "source": [
    "sns.scatterplot(x='sqft_living', y='price', data=df_no_outliers)\n",
    "plt.title('Harga vs Luas Bangunan')\n",
    "plt.xlabel('Luas Bangunan (sqft)')\n",
    "plt.ylabel('Harga')\n",
    "plt.show()"
   ]
  },
  {
   "cell_type": "code",
   "execution_count": 78,
   "id": "621d2d52",
   "metadata": {},
   "outputs": [
    {
     "data": {
      "image/png": "[encoded data removed]",
      "text/plain": [
       "<Figure size 640x480 with 1 Axes>"
      ]
     },
     "metadata": {},
     "output_type": "display_data"
    }
   ],
   "source": [
    "sns.barplot(x='bedrooms', y='price', data=df_no_outliers)\n",
    "plt.title('Rata-rata Harga Berdasarkan Jumlah Kamar Tidur')\n",
    "plt.xlabel('Jumlah Kamar Tidur')\n",
    "plt.ylabel('Rata-rata Harga')\n",
    "plt.show()"
   ]
  },
  {
   "cell_type": "code",
   "execution_count": 79,
   "id": "3afb5c21",
   "metadata": {},
   "outputs": [
    {
     "data": {
      "image/png": "[encoded data removed]",
      "text/plain": [
       "<Figure size 640x480 with 1 Axes>"
      ]
     },
     "metadata": {},
     "output_type": "display_data"
    }
   ],
   "source": [
    "sns.lineplot(x='yr_built', y='price', data=df_no_outliers)\n",
    "plt.title('Tren Harga Berdasarkan Tahun Dibangun')\n",
    "plt.xlabel('Tahun Dibangun')\n",
    "plt.ylabel('Harga')\n",
    "plt.show()"
   ]
  },
  {
   "cell_type": "code",
   "execution_count": 80,
   "id": "d7b4516e",
   "metadata": {},
   "outputs": [
    {
     "data": {
      "image/png": "[encoded data removed]",
      "text/plain": [
       "<Figure size 640x480 with 1 Axes>"
      ]
     },
     "metadata": {},
     "output_type": "display_data"
    }
   ],
   "source": [
    "top_cities = df_no_outliers['city'].value_counts().nlargest(10)\n",
    "sns.barplot(x=top_cities.values, y=top_cities.index)\n",
    "plt.title('10 Kota dengan Jumlah Rumah Terbanyak')\n",
    "plt.xlabel('Jumlah Rumah')\n",
    "plt.ylabel('Kota')\n",
    "plt.show()"
   ]
  },
  {
   "cell_type": "markdown",
   "id": "f9b113b3",
   "metadata": {},
   "source": [
    "<br>\n",
    "<h3>Rekomendasi rumah untuk Mr. Cho</h3>"
   ]
  },
  {
   "cell_type": "code",
   "execution_count": 81,
   "id": "5ccdc870",
   "metadata": {},
   "outputs": [
    {
     "name": "stdout",
     "output_type": "stream",
     "text": [
      "Jumlah rumah yang memenuhi kriteria:  2174\n"
     ]
    },
    {
     "data": {
      "application/vnd.microsoft.datawrangler.viewer.v0+json": {
       "columns": [
        {
         "name": "index",
         "rawType": "int64",
         "type": "integer"
        },
        {
         "name": "price",
         "rawType": "float64",
         "type": "float"
        },
        {
         "name": "sqft_living",
         "rawType": "int64",
         "type": "integer"
        },
        {
         "name": "bedrooms",
         "rawType": "float64",
         "type": "float"
        },
        {
         "name": "bathrooms",
         "rawType": "float64",
         "type": "float"
        },
        {
         "name": "yr_built",
         "rawType": "int64",
         "type": "integer"
        },
        {
         "name": "yr_renovated",
         "rawType": "int64",
         "type": "integer"
        }
       ],
       "conversionMethod": "pd.DataFrame",
       "ref": "b81a5609-8c6a-4333-9fa9-57302ccf9617",
       "rows": [
        [
         "0",
         "313000.0",
         "1340",
         "3.0",
         "1.5",
         "1955",
         "2005"
        ],
        [
         "9",
         "640000.0",
         "1520",
         "4.0",
         "2.0",
         "1945",
         "2010"
        ],
        [
         "13",
         "365000.0",
         "1090",
         "3.0",
         "1.0",
         "1955",
         "2009"
        ],
        [
         "17",
         "367500.0",
         "3110",
         "4.0",
         "3.0",
         "1997",
         "0"
        ],
        [
         "19",
         "275000.0",
         "1180",
         "3.0",
         "1.5",
         "1983",
         "2009"
        ],
        [
         "22",
         "626000.0",
         "1750",
         "3.0",
         "2.25",
         "2005",
         "0"
        ],
        [
         "23",
         "612500.0",
         "2730",
         "4.0",
         "2.5",
         "1991",
         "0"
        ],
        [
         "28",
         "675000.0",
         "2820",
         "5.0",
         "2.5",
         "1979",
         "2014"
        ],
        [
         "31",
         "499950.0",
         "2860",
         "4.0",
         "2.5",
         "2004",
         "2003"
        ],
        [
         "32",
         "650000.0",
         "1820",
         "4.0",
         "2.0",
         "1945",
         "2010"
        ]
       ],
       "shape": {
        "columns": 6,
        "rows": 10
       }
      },
      "text/html": [
       "<div>\n",
       "<style scoped>\n",
       "    .dataframe tbody tr th:only-of-type {\n",
       "        vertical-align: middle;\n",
       "    }\n",
       "\n",
       "    .dataframe tbody tr th {\n",
       "        vertical-align: top;\n",
       "    }\n",
       "\n",
       "    .dataframe thead th {\n",
       "        text-align: right;\n",
       "    }\n",
       "</style>\n",
       "<table border=\"1\" class=\"dataframe\">\n",
       "  <thead>\n",
       "    <tr style=\"text-align: right;\">\n",
       "      <th></th>\n",
       "      <th>price</th>\n",
       "      <th>sqft_living</th>\n",
       "      <th>bedrooms</th>\n",
       "      <th>bathrooms</th>\n",
       "      <th>yr_built</th>\n",
       "      <th>yr_renovated</th>\n",
       "    </tr>\n",
       "  </thead>\n",
       "  <tbody>\n",
       "    <tr>\n",
       "      <th>0</th>\n",
       "      <td>313000.0</td>\n",
       "      <td>1340</td>\n",
       "      <td>3.0</td>\n",
       "      <td>1.50</td>\n",
       "      <td>1955</td>\n",
       "      <td>2005</td>\n",
       "    </tr>\n",
       "    <tr>\n",
       "      <th>9</th>\n",
       "      <td>640000.0</td>\n",
       "      <td>1520</td>\n",
       "      <td>4.0</td>\n",
       "      <td>2.00</td>\n",
       "      <td>1945</td>\n",
       "      <td>2010</td>\n",
       "    </tr>\n",
       "    <tr>\n",
       "      <th>13</th>\n",
       "      <td>365000.0</td>\n",
       "      <td>1090</td>\n",
       "      <td>3.0</td>\n",
       "      <td>1.00</td>\n",
       "      <td>1955</td>\n",
       "      <td>2009</td>\n",
       "    </tr>\n",
       "    <tr>\n",
       "      <th>17</th>\n",
       "      <td>367500.0</td>\n",
       "      <td>3110</td>\n",
       "      <td>4.0</td>\n",
       "      <td>3.00</td>\n",
       "      <td>1997</td>\n",
       "      <td>0</td>\n",
       "    </tr>\n",
       "    <tr>\n",
       "      <th>19</th>\n",
       "      <td>275000.0</td>\n",
       "      <td>1180</td>\n",
       "      <td>3.0</td>\n",
       "      <td>1.50</td>\n",
       "      <td>1983</td>\n",
       "      <td>2009</td>\n",
       "    </tr>\n",
       "    <tr>\n",
       "      <th>22</th>\n",
       "      <td>626000.0</td>\n",
       "      <td>1750</td>\n",
       "      <td>3.0</td>\n",
       "      <td>2.25</td>\n",
       "      <td>2005</td>\n",
       "      <td>0</td>\n",
       "    </tr>\n",
       "    <tr>\n",
       "      <th>23</th>\n",
       "      <td>612500.0</td>\n",
       "      <td>2730</td>\n",
       "      <td>4.0</td>\n",
       "      <td>2.50</td>\n",
       "      <td>1991</td>\n",
       "      <td>0</td>\n",
       "    </tr>\n",
       "    <tr>\n",
       "      <th>28</th>\n",
       "      <td>675000.0</td>\n",
       "      <td>2820</td>\n",
       "      <td>5.0</td>\n",
       "      <td>2.50</td>\n",
       "      <td>1979</td>\n",
       "      <td>2014</td>\n",
       "    </tr>\n",
       "    <tr>\n",
       "      <th>31</th>\n",
       "      <td>499950.0</td>\n",
       "      <td>2860</td>\n",
       "      <td>4.0</td>\n",
       "      <td>2.50</td>\n",
       "      <td>2004</td>\n",
       "      <td>2003</td>\n",
       "    </tr>\n",
       "    <tr>\n",
       "      <th>32</th>\n",
       "      <td>650000.0</td>\n",
       "      <td>1820</td>\n",
       "      <td>4.0</td>\n",
       "      <td>2.00</td>\n",
       "      <td>1945</td>\n",
       "      <td>2010</td>\n",
       "    </tr>\n",
       "  </tbody>\n",
       "</table>\n",
       "</div>"
      ],
      "text/plain": [
       "       price  sqft_living  bedrooms  bathrooms  yr_built  yr_renovated\n",
       "0   313000.0         1340       3.0       1.50      1955          2005\n",
       "9   640000.0         1520       4.0       2.00      1945          2010\n",
       "13  365000.0         1090       3.0       1.00      1955          2009\n",
       "17  367500.0         3110       4.0       3.00      1997             0\n",
       "19  275000.0         1180       3.0       1.50      1983          2009\n",
       "22  626000.0         1750       3.0       2.25      2005             0\n",
       "23  612500.0         2730       4.0       2.50      1991             0\n",
       "28  675000.0         2820       5.0       2.50      1979          2014\n",
       "31  499950.0         2860       4.0       2.50      2004          2003\n",
       "32  650000.0         1820       4.0       2.00      1945          2010"
      ]
     },
     "execution_count": 81,
     "metadata": {},
     "output_type": "execute_result"
    }
   ],
   "source": [
    "house_for_cho = df_no_outliers[(df_no_outliers['yr_built'] >= 1990) | ((df_no_outliers['yr_built'] < 1990) & (df_no_outliers['yr_renovated'] > 2000))]\n",
    "\n",
    "print(\"Jumlah rumah yang memenuhi kriteria: \", len(house_for_cho))\n",
    "house_for_cho[['price', 'sqft_living', 'bedrooms', 'bathrooms', 'yr_built', 'yr_renovated']].head(10)"
   ]
  },
  {
   "cell_type": "markdown",
   "id": "b3376af2",
   "metadata": {},
   "source": [
    "<br>\n",
    "<h3>Top 8 \"Best Value\" untuk Mr. Cho</h3>"
   ]
  },
  {
   "cell_type": "code",
   "execution_count": 82,
   "id": "ea65debe",
   "metadata": {},
   "outputs": [
    {
     "data": {
      "application/vnd.microsoft.datawrangler.viewer.v0+json": {
       "columns": [
        {
         "name": "index",
         "rawType": "int64",
         "type": "integer"
        },
        {
         "name": "price",
         "rawType": "float64",
         "type": "float"
        },
        {
         "name": "sqft_living",
         "rawType": "int64",
         "type": "integer"
        },
        {
         "name": "bedrooms",
         "rawType": "float64",
         "type": "float"
        },
        {
         "name": "bathrooms",
         "rawType": "float64",
         "type": "float"
        },
        {
         "name": "yr_built",
         "rawType": "int64",
         "type": "integer"
        },
        {
         "name": "yr_renovated",
         "rawType": "int64",
         "type": "integer"
        },
        {
         "name": "city",
         "rawType": "object",
         "type": "string"
        },
        {
         "name": "value_ratio",
         "rawType": "float64",
         "type": "float"
        }
       ],
       "conversionMethod": "pd.DataFrame",
       "ref": "3a2c0fa5-e400-46b7-9909-e6dda08638bb",
       "rows": [
        [
         "4407",
         "83300.0",
         "1490",
         "3.0",
         "2.0",
         "1990",
         "0",
         "Covington",
         "0.01788715486194478"
        ],
        [
         "4462",
         "132250.0",
         "2192",
         "4.0",
         "2.25",
         "2006",
         "0",
         "Kent",
         "0.016574669187145556"
        ],
        [
         "4560",
         "132250.0",
         "1830",
         "4.0",
         "2.25",
         "1991",
         "0",
         "Kent",
         "0.01383742911153119"
        ],
        [
         "4372",
         "237333.333333",
         "3010",
         "3.0",
         "2.75",
         "2011",
         "0",
         "Sammamish",
         "0.012682584269680735"
        ],
        [
         "4514",
         "297857.142857",
         "3490",
         "4.0",
         "2.5",
         "2003",
         "0",
         "Covington",
         "0.011717026378902502"
        ],
        [
         "1236",
         "149000.0",
         "1700",
         "3.0",
         "1.0",
         "1955",
         "2005",
         "Seattle",
         "0.011409395973154362"
        ],
        [
         "1406",
         "293000.0",
         "3250",
         "4.0",
         "2.5",
         "1973",
         "2013",
         "Auburn",
         "0.011092150170648464"
        ],
        [
         "2785",
         "180000.0",
         "1990",
         "3.0",
         "2.25",
         "1967",
         "2011",
         "Des Moines",
         "0.011055555555555556"
        ]
       ],
       "shape": {
        "columns": 8,
        "rows": 8
       }
      },
      "text/html": [
       "<div>\n",
       "<style scoped>\n",
       "    .dataframe tbody tr th:only-of-type {\n",
       "        vertical-align: middle;\n",
       "    }\n",
       "\n",
       "    .dataframe tbody tr th {\n",
       "        vertical-align: top;\n",
       "    }\n",
       "\n",
       "    .dataframe thead th {\n",
       "        text-align: right;\n",
       "    }\n",
       "</style>\n",
       "<table border=\"1\" class=\"dataframe\">\n",
       "  <thead>\n",
       "    <tr style=\"text-align: right;\">\n",
       "      <th></th>\n",
       "      <th>price</th>\n",
       "      <th>sqft_living</th>\n",
       "      <th>bedrooms</th>\n",
       "      <th>bathrooms</th>\n",
       "      <th>yr_built</th>\n",
       "      <th>yr_renovated</th>\n",
       "      <th>city</th>\n",
       "      <th>value_ratio</th>\n",
       "    </tr>\n",
       "  </thead>\n",
       "  <tbody>\n",
       "    <tr>\n",
       "      <th>4407</th>\n",
       "      <td>83300.000000</td>\n",
       "      <td>1490</td>\n",
       "      <td>3.0</td>\n",
       "      <td>2.00</td>\n",
       "      <td>1990</td>\n",
       "      <td>0</td>\n",
       "      <td>Covington</td>\n",
       "      <td>0.017887</td>\n",
       "    </tr>\n",
       "    <tr>\n",
       "      <th>4462</th>\n",
       "      <td>132250.000000</td>\n",
       "      <td>2192</td>\n",
       "      <td>4.0</td>\n",
       "      <td>2.25</td>\n",
       "      <td>2006</td>\n",
       "      <td>0</td>\n",
       "      <td>Kent</td>\n",
       "      <td>0.016575</td>\n",
       "    </tr>\n",
       "    <tr>\n",
       "      <th>4560</th>\n",
       "      <td>132250.000000</td>\n",
       "      <td>1830</td>\n",
       "      <td>4.0</td>\n",
       "      <td>2.25</td>\n",
       "      <td>1991</td>\n",
       "      <td>0</td>\n",
       "      <td>Kent</td>\n",
       "      <td>0.013837</td>\n",
       "    </tr>\n",
       "    <tr>\n",
       "      <th>4372</th>\n",
       "      <td>237333.333333</td>\n",
       "      <td>3010</td>\n",
       "      <td>3.0</td>\n",
       "      <td>2.75</td>\n",
       "      <td>2011</td>\n",
       "      <td>0</td>\n",
       "      <td>Sammamish</td>\n",
       "      <td>0.012683</td>\n",
       "    </tr>\n",
       "    <tr>\n",
       "      <th>4514</th>\n",
       "      <td>297857.142857</td>\n",
       "      <td>3490</td>\n",
       "      <td>4.0</td>\n",
       "      <td>2.50</td>\n",
       "      <td>2003</td>\n",
       "      <td>0</td>\n",
       "      <td>Covington</td>\n",
       "      <td>0.011717</td>\n",
       "    </tr>\n",
       "    <tr>\n",
       "      <th>1236</th>\n",
       "      <td>149000.000000</td>\n",
       "      <td>1700</td>\n",
       "      <td>3.0</td>\n",
       "      <td>1.00</td>\n",
       "      <td>1955</td>\n",
       "      <td>2005</td>\n",
       "      <td>Seattle</td>\n",
       "      <td>0.011409</td>\n",
       "    </tr>\n",
       "    <tr>\n",
       "      <th>1406</th>\n",
       "      <td>293000.000000</td>\n",
       "      <td>3250</td>\n",
       "      <td>4.0</td>\n",
       "      <td>2.50</td>\n",
       "      <td>1973</td>\n",
       "      <td>2013</td>\n",
       "      <td>Auburn</td>\n",
       "      <td>0.011092</td>\n",
       "    </tr>\n",
       "    <tr>\n",
       "      <th>2785</th>\n",
       "      <td>180000.000000</td>\n",
       "      <td>1990</td>\n",
       "      <td>3.0</td>\n",
       "      <td>2.25</td>\n",
       "      <td>1967</td>\n",
       "      <td>2011</td>\n",
       "      <td>Des Moines</td>\n",
       "      <td>0.011056</td>\n",
       "    </tr>\n",
       "  </tbody>\n",
       "</table>\n",
       "</div>"
      ],
      "text/plain": [
       "              price  sqft_living  bedrooms  bathrooms  yr_built  yr_renovated  \\\n",
       "4407   83300.000000         1490       3.0       2.00      1990             0   \n",
       "4462  132250.000000         2192       4.0       2.25      2006             0   \n",
       "4560  132250.000000         1830       4.0       2.25      1991             0   \n",
       "4372  237333.333333         3010       3.0       2.75      2011             0   \n",
       "4514  297857.142857         3490       4.0       2.50      2003             0   \n",
       "1236  149000.000000         1700       3.0       1.00      1955          2005   \n",
       "1406  293000.000000         3250       4.0       2.50      1973          2013   \n",
       "2785  180000.000000         1990       3.0       2.25      1967          2011   \n",
       "\n",
       "            city  value_ratio  \n",
       "4407   Covington     0.017887  \n",
       "4462        Kent     0.016575  \n",
       "4560        Kent     0.013837  \n",
       "4372   Sammamish     0.012683  \n",
       "4514   Covington     0.011717  \n",
       "1236     Seattle     0.011409  \n",
       "1406      Auburn     0.011092  \n",
       "2785  Des Moines     0.011056  "
      ]
     },
     "execution_count": 82,
     "metadata": {},
     "output_type": "execute_result"
    }
   ],
   "source": [
    "house_for_cho = house_for_cho[house_for_cho['price'] > 0]\n",
    "\n",
    "house_for_cho.loc[:, 'value_ratio'] = house_for_cho['sqft_living'] / house_for_cho['price']\n",
    "top_8_best_value = house_for_cho.sort_values(by='value_ratio', ascending=False).head(8)\n",
    "\n",
    "top_8_best_value[['price', 'sqft_living', 'bedrooms', 'bathrooms', 'yr_built', 'yr_renovated',  'city', 'value_ratio']]"
   ]
  },
  {
   "cell_type": "markdown",
   "id": "2c819d44",
   "metadata": {},
   "source": [
    "<br>\n",
    "<h3>Rename Column agar lebih rapih</h3>"
   ]
  },
  {
   "cell_type": "code",
   "execution_count": 83,
   "id": "e8360015",
   "metadata": {},
   "outputs": [
    {
     "data": {
      "application/vnd.microsoft.datawrangler.viewer.v0+json": {
       "columns": [
        {
         "name": "ID Rumah",
         "rawType": "int64",
         "type": "integer"
        },
        {
         "name": "Harga (USD)",
         "rawType": "float64",
         "type": "float"
        },
        {
         "name": "Luas Bangunan (sqft)",
         "rawType": "int64",
         "type": "integer"
        },
        {
         "name": "Kamar Tidur",
         "rawType": "float64",
         "type": "float"
        },
        {
         "name": "Kamar Mandi",
         "rawType": "float64",
         "type": "float"
        },
        {
         "name": "Tahun Dibangun",
         "rawType": "int64",
         "type": "integer"
        },
        {
         "name": "Tahun Renovasi",
         "rawType": "int64",
         "type": "integer"
        },
        {
         "name": "Kota",
         "rawType": "object",
         "type": "string"
        },
        {
         "name": "Value Ratio",
         "rawType": "float64",
         "type": "float"
        }
       ],
       "conversionMethod": "pd.DataFrame",
       "ref": "ad7e3ca1-efa9-43f2-ab65-f5fc3756e480",
       "rows": [
        [
         "4407",
         "83300.0",
         "1490",
         "3.0",
         "2.0",
         "1990",
         "0",
         "Covington",
         "0.01788715486194478"
        ],
        [
         "4462",
         "132250.0",
         "2192",
         "4.0",
         "2.25",
         "2006",
         "0",
         "Kent",
         "0.016574669187145556"
        ],
        [
         "4560",
         "132250.0",
         "1830",
         "4.0",
         "2.25",
         "1991",
         "0",
         "Kent",
         "0.01383742911153119"
        ],
        [
         "4372",
         "237333.333333",
         "3010",
         "3.0",
         "2.75",
         "2011",
         "0",
         "Sammamish",
         "0.012682584269680735"
        ],
        [
         "4514",
         "297857.142857",
         "3490",
         "4.0",
         "2.5",
         "2003",
         "0",
         "Covington",
         "0.011717026378902502"
        ],
        [
         "1236",
         "149000.0",
         "1700",
         "3.0",
         "1.0",
         "1955",
         "2005",
         "Seattle",
         "0.011409395973154362"
        ],
        [
         "1406",
         "293000.0",
         "3250",
         "4.0",
         "2.5",
         "1973",
         "2013",
         "Auburn",
         "0.011092150170648464"
        ],
        [
         "2785",
         "180000.0",
         "1990",
         "3.0",
         "2.25",
         "1967",
         "2011",
         "Des Moines",
         "0.011055555555555556"
        ]
       ],
       "shape": {
        "columns": 8,
        "rows": 8
       }
      },
      "text/html": [
       "<div>\n",
       "<style scoped>\n",
       "    .dataframe tbody tr th:only-of-type {\n",
       "        vertical-align: middle;\n",
       "    }\n",
       "\n",
       "    .dataframe tbody tr th {\n",
       "        vertical-align: top;\n",
       "    }\n",
       "\n",
       "    .dataframe thead th {\n",
       "        text-align: right;\n",
       "    }\n",
       "</style>\n",
       "<table border=\"1\" class=\"dataframe\">\n",
       "  <thead>\n",
       "    <tr style=\"text-align: right;\">\n",
       "      <th></th>\n",
       "      <th>Harga (USD)</th>\n",
       "      <th>Luas Bangunan (sqft)</th>\n",
       "      <th>Kamar Tidur</th>\n",
       "      <th>Kamar Mandi</th>\n",
       "      <th>Tahun Dibangun</th>\n",
       "      <th>Tahun Renovasi</th>\n",
       "      <th>Kota</th>\n",
       "      <th>Value Ratio</th>\n",
       "    </tr>\n",
       "    <tr>\n",
       "      <th>ID Rumah</th>\n",
       "      <th></th>\n",
       "      <th></th>\n",
       "      <th></th>\n",
       "      <th></th>\n",
       "      <th></th>\n",
       "      <th></th>\n",
       "      <th></th>\n",
       "      <th></th>\n",
       "    </tr>\n",
       "  </thead>\n",
       "  <tbody>\n",
       "    <tr>\n",
       "      <th>4407</th>\n",
       "      <td>83300.000000</td>\n",
       "      <td>1490</td>\n",
       "      <td>3.0</td>\n",
       "      <td>2.00</td>\n",
       "      <td>1990</td>\n",
       "      <td>0</td>\n",
       "      <td>Covington</td>\n",
       "      <td>0.017887</td>\n",
       "    </tr>\n",
       "    <tr>\n",
       "      <th>4462</th>\n",
       "      <td>132250.000000</td>\n",
       "      <td>2192</td>\n",
       "      <td>4.0</td>\n",
       "      <td>2.25</td>\n",
       "      <td>2006</td>\n",
       "      <td>0</td>\n",
       "      <td>Kent</td>\n",
       "      <td>0.016575</td>\n",
       "    </tr>\n",
       "    <tr>\n",
       "      <th>4560</th>\n",
       "      <td>132250.000000</td>\n",
       "      <td>1830</td>\n",
       "      <td>4.0</td>\n",
       "      <td>2.25</td>\n",
       "      <td>1991</td>\n",
       "      <td>0</td>\n",
       "      <td>Kent</td>\n",
       "      <td>0.013837</td>\n",
       "    </tr>\n",
       "    <tr>\n",
       "      <th>4372</th>\n",
       "      <td>237333.333333</td>\n",
       "      <td>3010</td>\n",
       "      <td>3.0</td>\n",
       "      <td>2.75</td>\n",
       "      <td>2011</td>\n",
       "      <td>0</td>\n",
       "      <td>Sammamish</td>\n",
       "      <td>0.012683</td>\n",
       "    </tr>\n",
       "    <tr>\n",
       "      <th>4514</th>\n",
       "      <td>297857.142857</td>\n",
       "      <td>3490</td>\n",
       "      <td>4.0</td>\n",
       "      <td>2.50</td>\n",
       "      <td>2003</td>\n",
       "      <td>0</td>\n",
       "      <td>Covington</td>\n",
       "      <td>0.011717</td>\n",
       "    </tr>\n",
       "    <tr>\n",
       "      <th>1236</th>\n",
       "      <td>149000.000000</td>\n",
       "      <td>1700</td>\n",
       "      <td>3.0</td>\n",
       "      <td>1.00</td>\n",
       "      <td>1955</td>\n",
       "      <td>2005</td>\n",
       "      <td>Seattle</td>\n",
       "      <td>0.011409</td>\n",
       "    </tr>\n",
       "    <tr>\n",
       "      <th>1406</th>\n",
       "      <td>293000.000000</td>\n",
       "      <td>3250</td>\n",
       "      <td>4.0</td>\n",
       "      <td>2.50</td>\n",
       "      <td>1973</td>\n",
       "      <td>2013</td>\n",
       "      <td>Auburn</td>\n",
       "      <td>0.011092</td>\n",
       "    </tr>\n",
       "    <tr>\n",
       "      <th>2785</th>\n",
       "      <td>180000.000000</td>\n",
       "      <td>1990</td>\n",
       "      <td>3.0</td>\n",
       "      <td>2.25</td>\n",
       "      <td>1967</td>\n",
       "      <td>2011</td>\n",
       "      <td>Des Moines</td>\n",
       "      <td>0.011056</td>\n",
       "    </tr>\n",
       "  </tbody>\n",
       "</table>\n",
       "</div>"
      ],
      "text/plain": [
       "            Harga (USD)  Luas Bangunan (sqft)  Kamar Tidur  Kamar Mandi  \\\n",
       "ID Rumah                                                                  \n",
       "4407       83300.000000                  1490          3.0         2.00   \n",
       "4462      132250.000000                  2192          4.0         2.25   \n",
       "4560      132250.000000                  1830          4.0         2.25   \n",
       "4372      237333.333333                  3010          3.0         2.75   \n",
       "4514      297857.142857                  3490          4.0         2.50   \n",
       "1236      149000.000000                  1700          3.0         1.00   \n",
       "1406      293000.000000                  3250          4.0         2.50   \n",
       "2785      180000.000000                  1990          3.0         2.25   \n",
       "\n",
       "          Tahun Dibangun  Tahun Renovasi        Kota  Value Ratio  \n",
       "ID Rumah                                                           \n",
       "4407                1990               0   Covington     0.017887  \n",
       "4462                2006               0        Kent     0.016575  \n",
       "4560                1991               0        Kent     0.013837  \n",
       "4372                2011               0   Sammamish     0.012683  \n",
       "4514                2003               0   Covington     0.011717  \n",
       "1236                1955            2005     Seattle     0.011409  \n",
       "1406                1973            2013      Auburn     0.011092  \n",
       "2785                1967            2011  Des Moines     0.011056  "
      ]
     },
     "execution_count": 83,
     "metadata": {},
     "output_type": "execute_result"
    }
   ],
   "source": [
    "top_8_best_value.rename(columns={\n",
    "    'price': 'Harga (USD)',\n",
    "    'sqft_living': 'Luas Bangunan (sqft)',\n",
    "    'bedrooms': 'Kamar Tidur',\n",
    "    'bathrooms': 'Kamar Mandi',\n",
    "    'yr_built': 'Tahun Dibangun',\n",
    "    'yr_renovated': 'Tahun Renovasi',\n",
    "    'city': 'Kota',\n",
    "    'value_ratio': 'Value Ratio'\n",
    "}, inplace=True)\n",
    "\n",
    "top_8_best_value.index.name = 'ID Rumah'\n",
    "top_8_best_value[['Harga (USD)', 'Luas Bangunan (sqft)', 'Kamar Tidur', 'Kamar Mandi', 'Tahun Dibangun', 'Tahun Renovasi',  'Kota', 'Value Ratio']]"
   ]
  },
  {
   "cell_type": "code",
   "execution_count": 84,
   "id": "50edb168",
   "metadata": {},
   "outputs": [
    {
     "data": {
      "image/png": "[encoded data removed]",
      "text/plain": [
       "<Figure size 1000x600 with 1 Axes>"
      ]
     },
     "metadata": {},
     "output_type": "display_data"
    },
    {
     "data": {
      "text/plain": [
       "<Figure size 640x480 with 0 Axes>"
      ]
     },
     "metadata": {},
     "output_type": "display_data"
    }
   ],
   "source": [
    "plt.figure(figsize=(10, 6))\n",
    "sns.barplot(x=top_8_best_value['Value Ratio'], \n",
    "            y=top_8_best_value['Kota'] + ' (ID: ' + top_8_best_value.index.astype(str) + ')', \n",
    "            hue=top_8_best_value['Kota'] + ' (ID: ' + top_8_best_value.index.astype(str) + ')', \n",
    "            palette='flare')\n",
    "plt.title('8 Rumah dengan Value Ratio Terbaik') \n",
    "plt.xlabel('Value Ratio (sqft_living/price)') \n",
    "plt.ylabel('Kota')\n",
    "plt.tight_layout()\n",
    "plt.show()\n",
    "plt.savefig('top_8_best_value.png', dpi=300, bbox_inches='tight')"
   ]
  }
 ],
 "metadata": {
  "kernelspec": {
   "display_name": "Python 3",
   "language": "python",
   "name": "python3"
  },
  "language_info": {
   "codemirror_mode": {
    "name": "ipython",
    "version": 3
   },
   "file_extension": ".py",
   "mimetype": "text/x-python",
   "name": "python",
   "nbconvert_exporter": "python",
   "pygments_lexer": "ipython3",
   "version": "3.13.1"
  }
 },
 "nbformat": 4,
 "nbformat_minor": 5
}
